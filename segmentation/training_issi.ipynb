{
 "metadata": {
  "language_info": {
   "codemirror_mode": {
    "name": "ipython",
    "version": 3
   },
   "file_extension": ".py",
   "mimetype": "text/x-python",
   "name": "python",
   "nbconvert_exporter": "python",
   "pygments_lexer": "ipython3",
   "version": "3.8.5"
  },
  "orig_nbformat": 2,
  "kernelspec": {
   "name": "python385jvsc74a57bd0b98c09f623885d5b0bd80e3dec26763da8c2dc37efb14e056fac55c82470d720",
   "display_name": "Python 3.8.5 64-bit ('base': conda)"
  }
 },
 "nbformat": 4,
 "nbformat_minor": 2,
 "cells": [
  {
   "cell_type": "code",
   "execution_count": 1,
   "metadata": {},
   "outputs": [
    {
     "output_type": "stream",
     "name": "stderr",
     "text": [
      "Failed to detect the name of this notebook, you can set it manually with the WANDB_NOTEBOOK_NAME environment variable to enable code saving.\n",
      "wandb: Currently logged in as: raysamram (use `wandb login --relogin` to force relogin)\n"
     ]
    },
    {
     "output_type": "display_data",
     "data": {
      "text/plain": "<IPython.core.display.HTML object>",
      "text/html": "\n                Tracking run with wandb version 0.10.30<br/>\n                Syncing run <strong style=\"color:#cdcd00\">sparkling-terrain-22</strong> to <a href=\"https://wandb.ai\" target=\"_blank\">Weights & Biases</a> <a href=\"https://docs.wandb.com/integrations/jupyter.html\" target=\"_blank\">(Documentation)</a>.<br/>\n                Project page: <a href=\"https://wandb.ai/raysamram/clouds-segmentation\" target=\"_blank\">https://wandb.ai/raysamram/clouds-segmentation</a><br/>\n                Run page: <a href=\"https://wandb.ai/raysamram/clouds-segmentation/runs/1cx4ot6k\" target=\"_blank\">https://wandb.ai/raysamram/clouds-segmentation/runs/1cx4ot6k</a><br/>\n                Run data is saved locally in <code>c:\\Users\\Ray\\Documents\\Stage\\clouds-segmentation\\segmentation\\wandb\\run-20210520_112646-1cx4ot6k</code><br/><br/>\n            "
     },
     "metadata": {}
    }
   ],
   "source": [
    "import wandb\n",
    "wandb.init(project='clouds-segmentation', entity='raysamram')\n",
    "config = wandb.config\n",
    "from PIL import Image\n",
    "import datetime\n",
    "import re\n",
    "\n",
    "from torchvision.datasets import ImageFolder\n",
    "import torch\n",
    "from torchvision import transforms\n",
    "from architecture import *\n",
    "import torch\n",
    "import torch.nn as nn\n",
    "import torch.optim as optim\n",
    "import torch.nn.functional as F\n",
    "from torch.utils.data import Dataset, DataLoader\n",
    "from torch.autograd import Variable\n",
    "from collections import OrderedDict\n",
    "import pandas as pd\n",
    "\n",
    "\n",
    "EPOCHS = 1\n",
    "LEARNING_RATE = 0.0001\n",
    "BATCH_SIZE = 16\n",
    "PERCENTAGE_TEST = 0.2\n",
    "\n",
    "config.learning_rate = LEARNING_RATE\n",
    "config.batch_size = BATCH_SIZE\n",
    "config.dataset = \"ISSI\"\n",
    "config.epochs = EPOCHS\n",
    "config.percentage_test = PERCENTAGE_TEST\n",
    "device = torch.device(\"cuda:0\" if torch.cuda.is_available() else \"cpu\")"
   ]
  },
  {
   "cell_type": "code",
   "execution_count": 2,
   "metadata": {},
   "outputs": [
    {
     "output_type": "stream",
     "name": "stdout",
     "text": [
      " File : ../../DATASETS/ISSI/2007-2016 Organisation Summary/2007-Summary-2007-Summary.csv\n",
      " File : ../../DATASETS/ISSI/2007-2016 Organisation Summary/2008-Summary-2008-Summary.csv\n",
      " File : ../../DATASETS/ISSI/2007-2016 Organisation Summary/2009-Summary-2009-Summary.csv\n",
      " File : ../../DATASETS/ISSI/2007-2016 Organisation Summary/2010-Summary-2010-Summary.csv\n",
      " File : ../../DATASETS/ISSI/2007-2016 Organisation Summary/2011-Summary-2011-Summary.csv\n",
      " File : ../../DATASETS/ISSI/2007-2016 Organisation Summary/2012-Summary-2012-Summary.csv\n",
      " File : ../../DATASETS/ISSI/2007-2016 Organisation Summary/2013-Summary-2013-Summary.csv\n",
      " File : ../../DATASETS/ISSI/2007-2016 Organisation Summary/2014-Summary-2014-Summary.csv\n",
      " File : ../../DATASETS/ISSI/2007-2016 Organisation Summary/2015-Summary-2015-Summary.csv\n",
      " File : ../../DATASETS/ISSI/2007-2016 Organisation Summary/2016-Summary-2016-Summary.csv\n"
     ]
    }
   ],
   "source": [
    "\n",
    "years = [\"2007\",\"2008\",\"2009\",\"2010\",\"2011\",\"2012\",\"2013\",\"2014\",\"2015\",\"2016\"]\n",
    "save_path = \"../../DATASETS/ISSI/ORGANIZED/\"\n",
    "def look_for_file(rootdir, name):\n",
    "    regex = re.compile(name+\"*.jpeg\")\n",
    "\n",
    "    for root, dirs, files in os.walk(rootdir):\n",
    "        for file in files:\n",
    "            #print(\"file : \"+str(file))\n",
    "            if name in file:\n",
    "                #print(\"file : \"+str(file))\n",
    "                return file\n",
    "count = {\n",
    "            '0':0,\n",
    "            '1':0,\n",
    "            '2':0,\n",
    "            '3':0,\n",
    "            '4':0,\n",
    "            '5':0,\n",
    "        }\n",
    "for year in years:\n",
    "    df = pd.read_csv(\"../../DATASETS/ISSI/2007-2016 Organisation Summary/\"+year+\"-Summary-\"+year+\"-Summary.csv\")\n",
    "    print(\" File : \"+str(\"../../DATASETS/ISSI/2007-2016 Organisation Summary/\"+year+\"-Summary-\"+year+\"-Summary.csv\"))\n",
    "    #print(df)\n",
    "    for index, row in df.iterrows():\n",
    "        cols = list(df.columns)\n",
    "        classes = {\n",
    "            '0':0,\n",
    "            '1':0,\n",
    "            '2':0,\n",
    "            '3':0,\n",
    "            '4':0,\n",
    "            '5':0,\n",
    "        }\n",
    "        try:\n",
    "            classes[ str(  row[cols[2]]  )  ] += 1\n",
    "        except:\n",
    "            classes['0'] += 1\n",
    "        try:\n",
    "            classes[ str(  row[cols[3]]  )  ] += 1\n",
    "        except:\n",
    "            classes['0'] += 1\n",
    "        try:\n",
    "            classes[ str(  row[cols[4]]  )  ] += 1\n",
    "        except:\n",
    "            classes['0'] += 1\n",
    "        try:\n",
    "            classes[ str(  row[cols[5]]  )  ] += 1\n",
    "        except:\n",
    "            classes['0'] += 1\n",
    "            \n",
    "        try:\n",
    "            classes[ str(  row[cols[6]]  )  ] += 1\n",
    "        except:\n",
    "            classes['0'] += 1\n",
    "            \n",
    "        try:\n",
    "            classes[ str(  row[cols[7]]  )  ] += 1\n",
    "        except:\n",
    "            classes['0'] += 1\n",
    "        \n",
    "        #print(\"row : \"+str(row))\n",
    "        datetime_object = datetime.datetime.strptime(row['Day'].split()[0], \"%b\")\n",
    "        month_number = datetime_object.month\n",
    "        day = row['Day'].split()[1]\n",
    "        path = \"../../DATASETS/ISSI/images/\"\n",
    "        name_file = \"Aqua_CorrectedReflectance{year:04d}{month:02d}{day:02d}\" #\".png\"\n",
    "        ex_path = name_file.format(year=int(year), month=int(month_number), day=int(day))\n",
    "        best = max(classes, key=classes.get)\n",
    "        filename = look_for_file(path,ex_path)\n",
    "        file_img = path+filename\n",
    "        img = Image.open(file_img)\n",
    "        if best in ['1','2','3','4','5']:\n",
    "            sav_path = save_path+str(best)+\"/\"+str(count[best])+\".jpeg\"\n",
    "            #print(\"save path : \"+str(sav_path))\n",
    "            count[best] += 1\n",
    "            img.save(sav_path)\n",
    "        #print(\"Best : \"+str(best))\n",
    "        #print(\"Classes : \"+str(classes))\n",
    "        "
   ]
  },
  {
   "cell_type": "code",
   "execution_count": 3,
   "metadata": {},
   "outputs": [],
   "source": [
    "\n",
    "class CNet(nn.Module):\n",
    "    def __init__(self):\n",
    "        super(Net, self).__init__()\n",
    "        self.conv1 = nn.Conv2d(3, 6, 5)\n",
    "        self.pool = nn.MaxPool2d(2, 2)\n",
    "        self.conv2 = nn.Conv2d(6, 16, 5)\n",
    "        self.fc1 = nn.Linear(16 * 5 * 5, 120)\n",
    "        self.fc2 = nn.Linear(120, 84)\n",
    "        self.fc3 = nn.Linear(84, 10)\n",
    "\n",
    "    def forward(self, x):\n",
    "        x = self.pool(F.relu(self.conv1(x)))\n",
    "        x = self.pool(F.relu(self.conv2(x)))\n",
    "        x = x.view(-1, 16 * 5 * 5)\n",
    "        x = F.relu(self.fc1(x))\n",
    "        x = F.relu(self.fc2(x))\n",
    "        x = self.fc3(x)\n",
    "        return x\n",
    "\n",
    "\n",
    "normalize = transforms.Normalize(\n",
    "        mean=[0.485, 0.456, 0.406],\n",
    "        std=[0.229, 0.224, 0.225],\n",
    "    )\n",
    "transformer = transforms.Compose([\n",
    "    transforms.Resize([256, 256]),\n",
    "    # you can add other transformations in this list\n",
    "    transforms.ToTensor(),\n",
    "    normalize,\n",
    "])\n",
    "dataset = ImageFolder(root=\"../../DATASETS/ISSI/ORGANIZED/\", transform=transformer)\n",
    "n = len(dataset)\n",
    "n_test = int(PERCENTAGE_TEST * n)  # take ~10% for test\n",
    "train_set, test_set = torch.utils.data.random_split(dataset, [len(dataset)-n_test, n_test])"
   ]
  },
  {
   "cell_type": "code",
   "execution_count": 4,
   "metadata": {},
   "outputs": [
    {
     "output_type": "stream",
     "name": "stdout",
     "text": [
      "498\n99\n399\n<torch.utils.data.dataset.Subset object at 0x000000004A056B20>\n"
     ]
    }
   ],
   "source": [
    "config.number_train_images = len(train_set)\n",
    "config.number_test_images = len(test_set)\n"
   ]
  },
  {
   "cell_type": "code",
   "execution_count": 5,
   "metadata": {},
   "outputs": [],
   "source": [
    "\n",
    "train_dataloader  = DataLoader(train_set, batch_size=BATCH_SIZE, shuffle=True, num_workers=1) \n",
    "test_dataloader  = DataLoader(test_set, batch_size=BATCH_SIZE, shuffle=True, num_workers=1)"
   ]
  },
  {
   "cell_type": "code",
   "execution_count": 6,
   "metadata": {},
   "outputs": [],
   "source": [
    "\n",
    "pretrained_model = models.resnet18(pretrained=True)\n",
    "for param in pretrained_model.parameters():\n",
    "    param.requires_grad = False\n",
    "\n",
    "pretrained_model.fc = nn.Sequential(\n",
    "    nn.Linear(512, 100),\n",
    "    nn.ReLU(),\n",
    "    nn.Dropout(0.5),\n",
    "    \n",
    "    nn.Linear(100, 30),\n",
    "    nn.ReLU(),\n",
    "    nn.Dropout(0.5),\n",
    "\n",
    "\n",
    "    nn.Linear(30, 10),\n",
    "    nn.ReLU(),\n",
    "    nn.Dropout(0.5),\n",
    "\n",
    "\n",
    "    nn.Linear(10, 5),\n",
    "    nn.LogSoftmax(dim=1)\n",
    ")\n",
    "pretrained_model.to(device)\n",
    "net = pretrained_model\n",
    "\n",
    "config.architecture = str(net)\n",
    "\n",
    "def accuracy(out, labels):\n",
    "    _,pred = torch.max(out, dim=1)\n",
    "    return torch.sum(pred==labels).item()"
   ]
  },
  {
   "cell_type": "code",
   "execution_count": 7,
   "metadata": {},
   "outputs": [
    {
     "output_type": "stream",
     "name": "stdout",
     "text": [
      "NET : ResNet(\n  (conv1): Conv2d(3, 64, kernel_size=(7, 7), stride=(2, 2), padding=(3, 3), bias=False)\n  (bn1): BatchNorm2d(64, eps=1e-05, momentum=0.1, affine=True, track_running_stats=True)\n  (relu): ReLU(inplace=True)\n  (maxpool): MaxPool2d(kernel_size=3, stride=2, padding=1, dilation=1, ceil_mode=False)\n  (layer1): Sequential(\n    (0): BasicBlock(\n      (conv1): Conv2d(64, 64, kernel_size=(3, 3), stride=(1, 1), padding=(1, 1), bias=False)\n      (bn1): BatchNorm2d(64, eps=1e-05, momentum=0.1, affine=True, track_running_stats=True)\n      (relu): ReLU(inplace=True)\n      (conv2): Conv2d(64, 64, kernel_size=(3, 3), stride=(1, 1), padding=(1, 1), bias=False)\n      (bn2): BatchNorm2d(64, eps=1e-05, momentum=0.1, affine=True, track_running_stats=True)\n    )\n    (1): BasicBlock(\n      (conv1): Conv2d(64, 64, kernel_size=(3, 3), stride=(1, 1), padding=(1, 1), bias=False)\n      (bn1): BatchNorm2d(64, eps=1e-05, momentum=0.1, affine=True, track_running_stats=True)\n      (relu): ReLU(inplace=True)\n      (conv2): Conv2d(64, 64, kernel_size=(3, 3), stride=(1, 1), padding=(1, 1), bias=False)\n      (bn2): BatchNorm2d(64, eps=1e-05, momentum=0.1, affine=True, track_running_stats=True)\n    )\n  )\n  (layer2): Sequential(\n    (0): BasicBlock(\n      (conv1): Conv2d(64, 128, kernel_size=(3, 3), stride=(2, 2), padding=(1, 1), bias=False)\n      (bn1): BatchNorm2d(128, eps=1e-05, momentum=0.1, affine=True, track_running_stats=True)\n      (relu): ReLU(inplace=True)\n      (conv2): Conv2d(128, 128, kernel_size=(3, 3), stride=(1, 1), padding=(1, 1), bias=False)\n      (bn2): BatchNorm2d(128, eps=1e-05, momentum=0.1, affine=True, track_running_stats=True)\n      (downsample): Sequential(\n        (0): Conv2d(64, 128, kernel_size=(1, 1), stride=(2, 2), bias=False)\n        (1): BatchNorm2d(128, eps=1e-05, momentum=0.1, affine=True, track_running_stats=True)\n      )\n    )\n    (1): BasicBlock(\n      (conv1): Conv2d(128, 128, kernel_size=(3, 3), stride=(1, 1), padding=(1, 1), bias=False)\n      (bn1): BatchNorm2d(128, eps=1e-05, momentum=0.1, affine=True, track_running_stats=True)\n      (relu): ReLU(inplace=True)\n      (conv2): Conv2d(128, 128, kernel_size=(3, 3), stride=(1, 1), padding=(1, 1), bias=False)\n      (bn2): BatchNorm2d(128, eps=1e-05, momentum=0.1, affine=True, track_running_stats=True)\n    )\n  )\n  (layer3): Sequential(\n    (0): BasicBlock(\n      (conv1): Conv2d(128, 256, kernel_size=(3, 3), stride=(2, 2), padding=(1, 1), bias=False)\n      (bn1): BatchNorm2d(256, eps=1e-05, momentum=0.1, affine=True, track_running_stats=True)\n      (relu): ReLU(inplace=True)\n      (conv2): Conv2d(256, 256, kernel_size=(3, 3), stride=(1, 1), padding=(1, 1), bias=False)\n      (bn2): BatchNorm2d(256, eps=1e-05, momentum=0.1, affine=True, track_running_stats=True)\n      (downsample): Sequential(\n        (0): Conv2d(128, 256, kernel_size=(1, 1), stride=(2, 2), bias=False)\n        (1): BatchNorm2d(256, eps=1e-05, momentum=0.1, affine=True, track_running_stats=True)\n      )\n    )\n    (1): BasicBlock(\n      (conv1): Conv2d(256, 256, kernel_size=(3, 3), stride=(1, 1), padding=(1, 1), bias=False)\n      (bn1): BatchNorm2d(256, eps=1e-05, momentum=0.1, affine=True, track_running_stats=True)\n      (relu): ReLU(inplace=True)\n      (conv2): Conv2d(256, 256, kernel_size=(3, 3), stride=(1, 1), padding=(1, 1), bias=False)\n      (bn2): BatchNorm2d(256, eps=1e-05, momentum=0.1, affine=True, track_running_stats=True)\n    )\n  )\n  (layer4): Sequential(\n    (0): BasicBlock(\n      (conv1): Conv2d(256, 512, kernel_size=(3, 3), stride=(2, 2), padding=(1, 1), bias=False)\n      (bn1): BatchNorm2d(512, eps=1e-05, momentum=0.1, affine=True, track_running_stats=True)\n      (relu): ReLU(inplace=True)\n      (conv2): Conv2d(512, 512, kernel_size=(3, 3), stride=(1, 1), padding=(1, 1), bias=False)\n      (bn2): BatchNorm2d(512, eps=1e-05, momentum=0.1, affine=True, track_running_stats=True)\n      (downsample): Sequential(\n        (0): Conv2d(256, 512, kernel_size=(1, 1), stride=(2, 2), bias=False)\n        (1): BatchNorm2d(512, eps=1e-05, momentum=0.1, affine=True, track_running_stats=True)\n      )\n    )\n    (1): BasicBlock(\n      (conv1): Conv2d(512, 512, kernel_size=(3, 3), stride=(1, 1), padding=(1, 1), bias=False)\n      (bn1): BatchNorm2d(512, eps=1e-05, momentum=0.1, affine=True, track_running_stats=True)\n      (relu): ReLU(inplace=True)\n      (conv2): Conv2d(512, 512, kernel_size=(3, 3), stride=(1, 1), padding=(1, 1), bias=False)\n      (bn2): BatchNorm2d(512, eps=1e-05, momentum=0.1, affine=True, track_running_stats=True)\n    )\n  )\n  (avgpool): AdaptiveAvgPool2d(output_size=(1, 1))\n  (fc): Sequential(\n    (0): Linear(in_features=512, out_features=100, bias=True)\n    (1): ReLU()\n    (2): Dropout(p=0.5, inplace=False)\n    (3): Linear(in_features=100, out_features=30, bias=True)\n    (4): ReLU()\n    (5): Dropout(p=0.5, inplace=False)\n    (6): Linear(in_features=30, out_features=10, bias=True)\n    (7): ReLU()\n    (8): Dropout(p=0.5, inplace=False)\n    (9): Linear(in_features=10, out_features=5, bias=True)\n    (10): LogSoftmax(dim=1)\n  )\n)\nLogSoftMax shape : torch.Size([3, 5])\nTarget shape : torch.Size([3])\ninput:  tensor([[-0.2691,  0.4207, -1.0843,  0.5160, -1.7090],\n        [ 0.3920, -0.4933, -1.9867,  0.6872,  0.4211],\n        [-0.8664, -0.4615,  0.5995,  0.1605, -1.5015]], requires_grad=True)\ntarget:  tensor([1, 0, 4])\noutput:  tensor(1.7959, grad_fn=<NllLossBackward>)\n"
     ]
    }
   ],
   "source": [
    "print(\"NET : \"+str(net))\n"
   ]
  },
  {
   "cell_type": "code",
   "execution_count": 8,
   "metadata": {},
   "outputs": [
    {
     "output_type": "stream",
     "name": "stdout",
     "text": [
      "Epoch : 0\n",
      "Epoch 0.. Step 0.. Train loss: 0.319.. Test loss: 1.653.. Test accuracy: 0.190\n",
      "Epoch 0.. Step 10.. Train loss: 3.400.. Test loss: 1.641.. Test accuracy: 0.152\n",
      "Epoch 0.. Step 20.. Train loss: 3.267.. Test loss: 1.611.. Test accuracy: 0.229\n"
     ]
    }
   ],
   "source": [
    "\n",
    "\n",
    "import gc\n",
    "#del variables\n",
    "gc.collect()\n",
    "torch.cuda.empty_cache()\n",
    "optimizer = torch.optim.Adam(net.parameters(), lr=LEARNING_RATE)\n",
    "loss_func = nn.NLLLoss()  \n",
    "running_loss = 0\n",
    "print_every = 5\n",
    "# Training and Testing\n",
    "for epoch in range(EPOCHS):\n",
    "    print(\"Epoch : \"+str(epoch))\n",
    "    for step, (x, y) in enumerate(train_dataloader):\n",
    "        \n",
    "        b_x = Variable(x).to(device)   # batch x (image)\n",
    "        b_y = Variable(y).to(device)   # batch y (target)\n",
    "        \n",
    "        output = net(b_x)#.argmax(dim=1)\n",
    "        \"\"\"\n",
    "        print(\"b_y : \"+str(b_y))\n",
    "        print(\"shape b_y : \"+str(b_y.shape))    \n",
    "        print(\"output : \"+str(output))\n",
    "        print(\"shape output : \"+str(output.shape))\n",
    "        \"\"\"\n",
    "        loss = loss_func(output, b_y)   \n",
    "        optimizer.zero_grad()           \n",
    "        loss.backward()                 \n",
    "        optimizer.step()\n",
    "        running_loss += loss.item()\n",
    "        \n",
    "        # Test -> this is where I have no clue\n",
    "        if step % 10 == 0:\n",
    "            test_loss = 0\n",
    "            accuracy = 0\n",
    "            net.eval()\n",
    "            with torch.no_grad():\n",
    "                for inputs, labels in test_dataloader:\n",
    "                    inputs, labels = inputs.to(device), labels.to(device)\n",
    "                    logps = net(inputs)\n",
    "                    batch_loss = loss_func(logps, labels)\n",
    "                    \n",
    "                    test_loss += batch_loss.item()\n",
    "                    \n",
    "                    # Calculate accuracy\n",
    "                    ps = torch.exp(logps)\n",
    "                    top_p, top_class = ps.topk(1, dim=1)\n",
    "                    equals = top_class == labels.view(*top_class.shape)\n",
    "                    accuracy += torch.mean(equals.type(torch.FloatTensor)).item()\n",
    "                    wandb.log({\n",
    "                        \"epoch\":epoch,\n",
    "                        \"train loss\":running_loss/print_every,\n",
    "                        \"test loss\":test_loss/len(test_dataloader),\n",
    "                        \"test accuracy\":accuracy/len(test_dataloader),\n",
    "                        })\n",
    "            print(f\"Epoch {epoch}.. \"\n",
    "                  f\"Step {step}.. \"\n",
    "                  f\"Train loss: {running_loss/print_every:.3f}.. \"\n",
    "                  f\"Test loss: {test_loss/len(test_dataloader):.3f}.. \"\n",
    "                  f\"Test accuracy: {accuracy/len(test_dataloader):.3f}\")\n",
    "            running_loss = 0\n",
    "            net.train()\n",
    "            torch.save(net, \"issi_net_model.checkpt\")\n",
    "            wandb.save(\"issi_net_model.checkpt\")"
   ]
  },
  {
   "cell_type": "code",
   "execution_count": 9,
   "metadata": {},
   "outputs": [],
   "source": [
    "torch.save(net.state_dict(), \"issi_state_dict\")\n",
    "torch.save(net, \"issi_net_model\")\n"
   ]
  }
 ]
}